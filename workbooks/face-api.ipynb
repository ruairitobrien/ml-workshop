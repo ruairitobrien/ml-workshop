{
 "cells": [
  {
   "cell_type": "markdown",
   "metadata": {},
   "source": [
    "# Optional Exercise\n",
    "\n",
    "Play around with a machine learning service. There are plenty of options.\n",
    "\n",
    "Amazon has a good one: https://aws.amazon.com/machine-learning/\n",
    "Google: https://cloud.google.com/products/machine-learning/\n",
    "\n",
    "A quick, easy and free on to try out is Microsoft Cognitive Services. Here we will go through an example of the Face API: https://azure.microsoft.com/en-us/services/cognitive-services/face/\n",
    "\n",
    "Follow the above link and click the 'Try Face API' button to get a subscription key. \n",
    "\n",
    "Install required lib:\n",
    "\n",
    "`pip3 install cognitive_face`"
   ]
  },
  {
   "cell_type": "code",
   "execution_count": null,
   "metadata": {},
   "outputs": [],
   "source": [
    "import cognitive_face as CF\n",
    "\n",
    "KEY = 'your_key'  # Replace with a valid subscription key (keeping the quotes in place).\n",
    "CF.Key.set(KEY)\n",
    "# If you need to, you can change your base API url with:\n",
    "#CF.BaseUrl.set('https://westcentralus.api.cognitive.microsoft.com/face/v1.0/')\n",
    "\n",
    "BASE_URL = 'https://westcentralus.api.cognitive.microsoft.com/face/v1.0/'  # Replace with your regional Base URL\n",
    "CF.BaseUrl.set(BASE_URL)\n",
    "\n",
    "# You can use this example JPG or replace the URL below with your own URL to a JPEG image.\n",
    "img_url = 'https://raw.githubusercontent.com/Microsoft/Cognitive-Face-Windows/master/Data/detection1.jpg'\n",
    "faces = CF.face.detect(img_url)\n",
    "print(faces)"
   ]
  },
  {
   "cell_type": "code",
   "execution_count": null,
   "metadata": {},
   "outputs": [],
   "source": [
    "import requests\n",
    "from io import BytesIO\n",
    "from PIL import Image, ImageDraw\n",
    "\n",
    "#Convert width height to a point in a rectangle\n",
    "def getRectangle(faceDictionary):\n",
    "    rect = faceDictionary['faceRectangle']\n",
    "    left = rect['left']\n",
    "    top = rect['top']\n",
    "    bottom = left + rect['height']\n",
    "    right = top + rect['width']\n",
    "    return ((left, top), (bottom, right))\n",
    "\n",
    "#Download the image from the url\n",
    "response = requests.get(img_url)\n",
    "img = Image.open(BytesIO(response.content))\n",
    "\n",
    "#For each face returned use the face rectangle and draw a red box.\n",
    "draw = ImageDraw.Draw(img)\n",
    "for face in faces:\n",
    "    draw.rectangle(getRectangle(face), outline='red')\n",
    "\n",
    "#Display the image in the users default image browser.\n",
    "img.show()"
   ]
  }
 ],
 "metadata": {
  "kernelspec": {
   "display_name": "Python 3",
   "language": "python",
   "name": "python3"
  },
  "language_info": {
   "codemirror_mode": {
    "name": "ipython",
    "version": 3
   },
   "file_extension": ".py",
   "mimetype": "text/x-python",
   "name": "python",
   "nbconvert_exporter": "python",
   "pygments_lexer": "ipython3",
   "version": "3.6.3"
  }
 },
 "nbformat": 4,
 "nbformat_minor": 2
}
