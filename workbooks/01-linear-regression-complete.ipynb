{
 "cells": [
  {
   "cell_type": "code",
   "execution_count": 1,
   "metadata": {},
   "outputs": [],
   "source": [
    "# Remove model if run before\n",
    "!rm -rf tflinreg"
   ]
  },
  {
   "cell_type": "code",
   "execution_count": 2,
   "metadata": {},
   "outputs": [
    {
     "name": "stdout",
     "output_type": "stream",
     "text": [
      "term,party,growth\n",
      "Truman,D,6.57\n",
      "Eisenhower 1,R,2.72\n"
     ]
    }
   ],
   "source": [
    "!head -3 ../assets/president_gdp.csv"
   ]
  },
  {
   "cell_type": "markdown",
   "metadata": {},
   "source": [
    "Just for demonstration purposes, regression with `numpy`, `pandas`, and `scikit-learn`:"
   ]
  },
  {
   "cell_type": "code",
   "execution_count": 3,
   "metadata": {},
   "outputs": [],
   "source": [
    "import warnings # Just removing some warnings from the ouptut that are not important here.\n",
    "warnings.filterwarnings(action=\"ignore\", module=\"scipy\", message=\"^internal gelsd\")"
   ]
  },
  {
   "cell_type": "code",
   "execution_count": 4,
   "metadata": {},
   "outputs": [],
   "source": [
    "import numpy as np\n",
    "import pandas as pd\n",
    "\n",
    "data = pd.read_csv('../assets/president_gdp.csv')\n",
    "party = data.party == 'D'\n",
    "party = np.expand_dims(party, axis=1)\n",
    "growth = data.growth"
   ]
  },
  {
   "cell_type": "code",
   "execution_count": 5,
   "metadata": {},
   "outputs": [
    {
     "data": {
      "text/plain": [
       "array([2.54444444, 4.33285714])"
      ]
     },
     "execution_count": 5,
     "metadata": {},
     "output_type": "execute_result"
    }
   ],
   "source": [
    "import sklearn.linear_model\n",
    "\n",
    "model = sklearn.linear_model.LinearRegression()\n",
    "model.fit(X=party, y=growth)\n",
    "model.predict([[0], [1]])"
   ]
  },
  {
   "cell_type": "markdown",
   "metadata": {},
   "source": [
    "Regression with `tensorflow`:"
   ]
  },
  {
   "cell_type": "markdown",
   "metadata": {},
   "source": [
    "# High-level ML APIs. Training an Estimator"
   ]
  },
  {
   "cell_type": "code",
   "execution_count": 6,
   "metadata": {},
   "outputs": [],
   "source": [
    "import shutil\n",
    "shutil.rmtree('tflinreg', ignore_errors=True)"
   ]
  },
  {
   "cell_type": "code",
   "execution_count": 7,
   "metadata": {},
   "outputs": [
    {
     "name": "stdout",
     "output_type": "stream",
     "text": [
      "INFO:tensorflow:Using default config.\n",
      "INFO:tensorflow:Using config: {'_task_type': None, '_task_id': 0, '_cluster_spec': <tensorflow.python.training.server_lib.ClusterSpec object at 0x000001AE85924A90>, '_master': '', '_num_ps_replicas': 0, '_num_worker_replicas': 0, '_environment': 'local', '_is_chief': True, '_evaluation_master': '', '_tf_config': gpu_options {\n",
      "  per_process_gpu_memory_fraction: 1\n",
      "}\n",
      ", '_tf_random_seed': None, '_save_summary_steps': 100, '_save_checkpoints_secs': 600, '_log_step_count_steps': 100, '_session_config': None, '_save_checkpoints_steps': None, '_keep_checkpoint_max': 5, '_keep_checkpoint_every_n_hours': 10000, '_model_dir': 'tflinreg'}\n"
     ]
    }
   ],
   "source": [
    "with warnings.catch_warnings():\n",
    "    warnings.filterwarnings(\"ignore\", category=FutureWarning)\n",
    "    import tensorflow as tf\n",
    "SKCompat = tf.contrib.learn.SKCompat\n",
    "LinearRegressor = tf.contrib.learn.LinearRegressor\n",
    "\n",
    "party_col = tf.contrib.layers.real_valued_column(column_name='')\n",
    "model = SKCompat(LinearRegressor(feature_columns=[party_col],\n",
    "                                         model_dir='tflinreg'))"
   ]
  },
  {
   "cell_type": "code",
   "execution_count": 8,
   "metadata": {},
   "outputs": [
    {
     "name": "stdout",
     "output_type": "stream",
     "text": [
      "WARNING:tensorflow:float64 is not supported by many models, consider casting to float32.\n",
      "WARNING:tensorflow:From c:\\users\\obrier6\\appdata\\local\\programs\\python\\python36\\lib\\site-packages\\tensorflow\\contrib\\learn\\python\\learn\\estimators\\linear.py:173: get_global_step (from tensorflow.contrib.framework.python.ops.variables) is deprecated and will be removed in a future version.\n",
      "Instructions for updating:\n",
      "Please switch to tf.train.get_global_step\n",
      "INFO:tensorflow:Create CheckpointSaverHook.\n",
      "INFO:tensorflow:Saving checkpoints for 1 into tflinreg\\model.ckpt.\n",
      "INFO:tensorflow:loss = 13.243169, step = 1\n",
      "INFO:tensorflow:global_step/sec: 692.588\n",
      "INFO:tensorflow:loss = 1.4539315, step = 101 (0.146 sec)\n",
      "INFO:tensorflow:global_step/sec: 717.504\n",
      "INFO:tensorflow:loss = 1.4009407, step = 201 (0.138 sec)\n",
      "INFO:tensorflow:global_step/sec: 583.232\n",
      "INFO:tensorflow:loss = 1.3925623, step = 301 (0.173 sec)\n",
      "INFO:tensorflow:global_step/sec: 557.169\n",
      "INFO:tensorflow:loss = 1.3896141, step = 401 (0.177 sec)\n",
      "INFO:tensorflow:global_step/sec: 863.486\n",
      "INFO:tensorflow:loss = 1.3885548, step = 501 (0.116 sec)\n",
      "INFO:tensorflow:global_step/sec: 656.088\n",
      "INFO:tensorflow:loss = 1.388174, step = 601 (0.152 sec)\n",
      "INFO:tensorflow:global_step/sec: 617.58\n",
      "INFO:tensorflow:loss = 1.3880372, step = 701 (0.163 sec)\n",
      "INFO:tensorflow:global_step/sec: 593.651\n",
      "INFO:tensorflow:loss = 1.3879879, step = 801 (0.167 sec)\n",
      "INFO:tensorflow:global_step/sec: 730.646\n",
      "INFO:tensorflow:loss = 1.3879703, step = 901 (0.136 sec)\n",
      "INFO:tensorflow:Saving checkpoints for 1000 into tflinreg\\model.ckpt.\n",
      "INFO:tensorflow:Loss for final step: 1.3879639.\n",
      "INFO:tensorflow:Restoring parameters from tflinreg\\model.ckpt-1000\n"
     ]
    },
    {
     "data": {
      "text/plain": [
       "[2.5422058, 4.334169]"
      ]
     },
     "execution_count": 8,
     "metadata": {},
     "output_type": "execute_result"
    }
   ],
   "source": [
    "model.fit(x=party, y=growth, steps=1000)\n",
    "list(model.predict(np.array([[0], [1]]))['scores'])"
   ]
  },
  {
   "cell_type": "markdown",
   "metadata": {},
   "source": [
    "In a terminal, `cd` to this workbook directory and run:\n",
    "\n",
    "`tensorboard --logdir tflinreg`\n",
    "\n",
    "You will see some output produced by tensorflow which should end in a http URL. Navigate to that URL in your browser. "
   ]
  },
  {
   "cell_type": "code",
   "execution_count": null,
   "metadata": {},
   "outputs": [],
   "source": []
  }
 ],
 "metadata": {
  "kernelspec": {
   "display_name": "Python 3",
   "language": "python",
   "name": "python3"
  },
  "language_info": {
   "codemirror_mode": {
    "name": "ipython",
    "version": 3
   },
   "file_extension": ".py",
   "mimetype": "text/x-python",
   "name": "python",
   "nbconvert_exporter": "python",
   "pygments_lexer": "ipython3",
   "version": "3.6.3"
  }
 },
 "nbformat": 4,
 "nbformat_minor": 1
}
