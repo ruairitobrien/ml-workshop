{
 "cells": [
  {
   "cell_type": "markdown",
   "metadata": {},
   "source": [
    "---\n",
    "\n",
    "# Machine learning workshop preperation checklist"
   ]
  },
  {
   "cell_type": "markdown",
   "metadata": {},
   "source": [
    "In this notebook we will load up all the libraries we need for the workshop to ensure your environment is all set up."
   ]
  },
  {
   "cell_type": "markdown",
   "metadata": {},
   "source": [
    "To execute the code in this notebook, select the cell with code in it and press `Shift-Enter`. See the help menu above for more shortcuts. \n",
    "\n",
    "Important to note that a notebook is essentially a script that you can run, bit by bit. This is important because if you skip a cell, any cell below it might not work if it uses an import or variable declared in a cell above that was not run. Genrally you will want to run each cell in order."
   ]
  },
  {
   "cell_type": "markdown",
   "metadata": {},
   "source": [
    "First let's import all the python libraries we will need"
   ]
  },
  {
   "cell_type": "code",
   "execution_count": null,
   "metadata": {},
   "outputs": [],
   "source": [
    "import tensorflow as tf\n",
    "import matplotlib.pyplot as plt # Used to visualise things (plot graphs, as the name suggests)\n",
    "import numpy as np # Bascally always used for working with base n-dimensional arrays in python\n",
    "import pandas as pd # Python data analysis library\n",
    "import h5py # is a common package to interact with a dataset that is stored on an H5 file.\n",
    "import scipy # Scientific computing in python\n",
    "import sklearn # Machine learning in python (often used with or instead of tensorflow)\n",
    "import sklearn.datasets\n",
    "import sklearn.linear_model \n",
    "import time\n",
    "import json\n",
    "import sys\n",
    "import argparse"
   ]
  },
  {
   "cell_type": "markdown",
   "metadata": {},
   "source": [
    "If you did not get any `ModuleNotFoundError` then great! You are all set and the workshop should go swimmingly for you.\n",
    "\n",
    "If you did get an error, make sure you installed all the required libraries. For example, using `pip3` by running this command:\n",
    "\n",
    "```bash\n",
    "pip3 install --upgrade jupyter scikit-learn numpy pandas scipy h5py pillow matplotlib python-gflags\n",
    "```\n",
    "\n",
    "If things still aren't working, make sure to join this slack channel for support: https://psapps.slack.com/archives/C8R129GRK\n",
    "\n",
    "If you are on Linux, using virtualenv and tensorflow didn't load, did you run `source ~/tensorflow/bin/activate` first?"
   ]
  },
  {
   "cell_type": "code",
   "execution_count": null,
   "metadata": {},
   "outputs": [],
   "source": [
    "# You're definitely using python 3 right?\n",
    "from __future__ import division\n",
    "from platform import python_version\n",
    "import sys\n",
    "\n",
    "if sys.version_info[0] > 2:\n",
    "    print('Python', python_version())\n",
    "    print('Perfect!')\n",
    "else:\n",
    "    print('Python', python_version())\n",
    "    print('Nooooooooo!!!')"
   ]
  },
  {
   "cell_type": "markdown",
   "metadata": {},
   "source": [
    "### Exploring\n",
    "\n",
    "Feel free to edit this notebook and play around with the libraries above. \n",
    "\n",
    "Consider checking out some [Python quick reference](http://www.dataschool.io/python-quick-reference/)\n",
    "\n",
    "Look at using `dir()` and `help()`\n",
    "\n",
    "For example:"
   ]
  },
  {
   "cell_type": "code",
   "execution_count": null,
   "metadata": {},
   "outputs": [],
   "source": [
    "dir(tf)"
   ]
  },
  {
   "cell_type": "code",
   "execution_count": null,
   "metadata": {},
   "outputs": [],
   "source": [
    "help(tf.TFRecordReader)"
   ]
  }
 ],
 "metadata": {
  "kernelspec": {
   "display_name": "Python 3",
   "language": "python",
   "name": "python3"
  },
  "language_info": {
   "codemirror_mode": {
    "name": "ipython",
    "version": 3
   },
   "file_extension": ".py",
   "mimetype": "text/x-python",
   "name": "python",
   "nbconvert_exporter": "python",
   "pygments_lexer": "ipython3",
   "version": "3.6.3"
  }
 },
 "nbformat": 4,
 "nbformat_minor": 1
}
